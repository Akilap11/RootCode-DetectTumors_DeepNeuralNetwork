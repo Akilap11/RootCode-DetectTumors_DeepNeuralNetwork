{
 "cells": [
  {
   "cell_type": "code",
   "execution_count": 1,
   "id": "9e0df7ef-0062-466b-8fef-cf90bd54f0c8",
   "metadata": {},
   "outputs": [],
   "source": [
    "# Model Training and Evaluation Notebook "
   ]
  },
  {
   "cell_type": "code",
   "execution_count": 2,
   "id": "7766426a-c42d-42d8-bfe9-c7115dcc91b6",
   "metadata": {},
   "outputs": [],
   "source": [
    "# Imports\n",
    "import numpy as np\n",
    "import os\n",
    "from sklearn.model_selection import train_test_split\n",
    "import tensorflow as tf\n",
    "from tensorflow.keras.models import Sequential\n",
    "from tensorflow.keras.layers import Conv2D, MaxPooling2D, Flatten, Dense, Dropout"
   ]
  },
  {
   "cell_type": "code",
   "execution_count": 3,
   "id": "16a1bd7d-50f8-431f-8310-182fbc1be9db",
   "metadata": {},
   "outputs": [],
   "source": [
    "# Load and split preprocessed data\n",
    "X = np.load('preprocessed_data.npy')\n",
    "Y = np.load('preprocessed_labels.npy')\n",
    "\n",
    "x_train, x_test, y_train, y_test = train_test_split(X, Y, test_size=0.2, random_state=10)"
   ]
  },
  {
   "cell_type": "code",
   "execution_count": 4,
   "id": "e8165ac4-e710-425a-8e22-d916977cbf97",
   "metadata": {},
   "outputs": [],
   "source": [
    "# Build the DNN model\n",
    "model = Sequential([\n",
    "    Conv2D(32, (3, 3), activation='relu', input_shape=(250, 250, 1)),\n",
    "    MaxPooling2D(2, 2),\n",
    "    Conv2D(64, (3, 3), activation='relu'),\n",
    "    MaxPooling2D(2, 2),\n",
    "    Flatten(),\n",
    "    Dense(128, activation='relu'),\n",
    "    Dropout(0.5),\n",
    "    Dense(4, activation='softmax') \n",
    "])"
   ]
  },
  {
   "cell_type": "code",
   "execution_count": 5,
   "id": "1cf00337-86f5-438f-97d2-7dc2e288f979",
   "metadata": {},
   "outputs": [],
   "source": [
    "# Compile the model\n",
    "model.compile(optimizer='adam', loss='sparse_categorical_crossentropy', metrics=['accuracy'])"
   ]
  },
  {
   "cell_type": "code",
   "execution_count": 6,
   "id": "6772050d-1114-4736-b52c-940c5f8e4d89",
   "metadata": {},
   "outputs": [
    {
     "name": "stdout",
     "output_type": "stream",
     "text": [
      "Epoch 1/5\n",
      "81/81 [==============================] - 96s 1s/step - loss: 1.2613 - accuracy: 0.4955 - val_loss: 0.7832 - val_accuracy: 0.6884\n",
      "Epoch 2/5\n",
      "81/81 [==============================] - 154s 2s/step - loss: 0.6224 - accuracy: 0.7480 - val_loss: 0.5542 - val_accuracy: 0.7550\n",
      "Epoch 3/5\n",
      "81/81 [==============================] - 151s 2s/step - loss: 0.3796 - accuracy: 0.8558 - val_loss: 0.4273 - val_accuracy: 0.8388\n",
      "Epoch 4/5\n",
      "81/81 [==============================] - 168s 2s/step - loss: 0.2401 - accuracy: 0.9128 - val_loss: 0.3593 - val_accuracy: 0.8713\n",
      "Epoch 5/5\n",
      "81/81 [==============================] - 149s 2s/step - loss: 0.1685 - accuracy: 0.9387 - val_loss: 0.4134 - val_accuracy: 0.8698\n"
     ]
    },
    {
     "name": "stderr",
     "output_type": "stream",
     "text": [
      "C:\\Users\\SiCK_BoY\\AppData\\Local\\Programs\\Python\\Python311\\Lib\\site-packages\\keras\\src\\engine\\training.py:3000: UserWarning: You are saving your model as an HDF5 file via `model.save()`. This file format is considered legacy. We recommend using instead the native Keras format, e.g. `model.save('my_model.keras')`.\n",
      "  saving_api.save_model(\n"
     ]
    },
    {
     "name": "stdout",
     "output_type": "stream",
     "text": [
      "Trained model saved successfully.\n"
     ]
    }
   ],
   "source": [
    "#if exists load trained_model.h5. else train and save \n",
    "if os.path.exists('trained_model 2.h5'):\n",
    "    model = tf.keras.models.load_model('trained_model 2.h5')\n",
    "else:\n",
    "    #train 5 epochs---\n",
    "    model.fit(x_train, y_train, epochs=5, validation_data=(x_test, y_test))\n",
    "    model.save('trained_model 2.h5')\n",
    "    print(\"Trained model saved successfully.\")"
   ]
  },
  {
   "cell_type": "code",
   "execution_count": 7,
   "id": "95938bdc-e264-473c-a285-53fcb609f05f",
   "metadata": {},
   "outputs": [
    {
     "name": "stdout",
     "output_type": "stream",
     "text": [
      "21/21 [==============================] - 7s 310ms/step - loss: 0.4134 - accuracy: 0.8698\n",
      "Test accuracy: 0.869767427444458\n",
      "Test loss: 0.41337355971336365\n"
     ]
    }
   ],
   "source": [
    "# Evaluate the model\n",
    "test_loss, test_accuracy = model.evaluate(x_test, y_test)\n",
    "print(\"Test accuracy:\", test_accuracy)\n",
    "print(\"Test loss:\", test_loss)"
   ]
  },
  {
   "cell_type": "code",
   "execution_count": null,
   "id": "d239c8a9-e3a0-41c3-8b60-f11b718542c4",
   "metadata": {},
   "outputs": [],
   "source": []
  }
 ],
 "metadata": {
  "kernelspec": {
   "display_name": "Python 3 (ipykernel)",
   "language": "python",
   "name": "python3"
  },
  "language_info": {
   "codemirror_mode": {
    "name": "ipython",
    "version": 3
   },
   "file_extension": ".py",
   "mimetype": "text/x-python",
   "name": "python",
   "nbconvert_exporter": "python",
   "pygments_lexer": "ipython3",
   "version": "3.11.4"
  }
 },
 "nbformat": 4,
 "nbformat_minor": 5
}
