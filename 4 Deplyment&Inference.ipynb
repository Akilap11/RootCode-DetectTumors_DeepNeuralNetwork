{
 "cells": [
  {
   "cell_type": "code",
   "execution_count": 1,
   "id": "ba3e680f-90ec-4cc0-85b8-0c6243597b82",
   "metadata": {},
   "outputs": [],
   "source": [
    "# Deployment and Inference Notebook"
   ]
  },
  {
   "cell_type": "code",
   "execution_count": 2,
   "id": "63a56cee-20d4-48d1-aebd-94f6a42aa650",
   "metadata": {},
   "outputs": [],
   "source": [
    "# Imports\n",
    "import numpy as np\n",
    "import cv2\n",
    "import tensorflow as tf\n",
    "from tensorflow.keras.models import load_model"
   ]
  },
  {
   "cell_type": "code",
   "execution_count": 3,
   "id": "c80bddfe-52f3-41b6-8560-1f4637dba852",
   "metadata": {},
   "outputs": [
    {
     "name": "stdout",
     "output_type": "stream",
     "text": [
      "1/1 [==============================] - 0s 294ms/step\n",
      "Predicted Tumor Type: No Tumor\n"
     ]
    }
   ],
   "source": [
    "# Load the trained model\n",
    "model = load_model('trained_model 2.h5')\n",
    "\n",
    "# Load and preprocess a new image\n",
    "def preprocess_image(image_path):\n",
    "    img = cv2.imread(image_path, 0)\n",
    "    img = cv2.resize(img, (250, 250))\n",
    "    img = img / 255.0\n",
    "    img = np.reshape(img, (1, 250, 250, 1))\n",
    "    return img\n",
    "\n",
    "preprocessed_img = preprocess_image('Datathon-Dataset/no_tumor/nt_img (113).jpg')\n",
    "\n",
    "# Make predictions\n",
    "predictions = model.predict(preprocessed_img)\n",
    "class_idx = np.argmax(predictions)\n",
    "\n",
    "# Map class index to class label\n",
    "class_names = {0: 'No Tumor', 1: 'Category 1 Tumor', 2: 'Category 2 Tumor', 3: 'Category 3 Tumor'}\n",
    "predicted_label = class_names[class_idx]\n",
    "\n",
    "print(\"Predicted Tumor Type:\", predicted_label)"
   ]
  },
  {
   "cell_type": "code",
   "execution_count": null,
   "id": "2c5a5650-8157-4d57-9e54-1c8b2621fab7",
   "metadata": {},
   "outputs": [],
   "source": []
  }
 ],
 "metadata": {
  "kernelspec": {
   "display_name": "Python 3 (ipykernel)",
   "language": "python",
   "name": "python3"
  },
  "language_info": {
   "codemirror_mode": {
    "name": "ipython",
    "version": 3
   },
   "file_extension": ".py",
   "mimetype": "text/x-python",
   "name": "python",
   "nbconvert_exporter": "python",
   "pygments_lexer": "ipython3",
   "version": "3.11.4"
  }
 },
 "nbformat": 4,
 "nbformat_minor": 5
}
