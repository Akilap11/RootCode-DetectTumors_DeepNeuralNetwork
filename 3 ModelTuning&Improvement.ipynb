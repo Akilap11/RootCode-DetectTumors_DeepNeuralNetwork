{
 "cells": [
  {
   "cell_type": "code",
   "execution_count": 1,
   "id": "63920505-a7e1-414c-92bf-98747056dad2",
   "metadata": {},
   "outputs": [],
   "source": [
    "# Model Tuning and Improvement Notebook"
   ]
  },
  {
   "cell_type": "code",
   "execution_count": 2,
   "id": "6bedbb00-6e08-4cab-bbcf-4aff93ad3470",
   "metadata": {},
   "outputs": [],
   "source": [
    "# Imports\n",
    "import numpy as np\n",
    "import os\n",
    "from sklearn.model_selection import train_test_split\n",
    "import tensorflow as tf\n",
    "from tensorflow.keras.models import Sequential\n",
    "from tensorflow.keras.layers import Conv2D, MaxPooling2D, Flatten, Dense, Dropout"
   ]
  },
  {
   "cell_type": "code",
   "execution_count": 3,
   "id": "ee34d5f1-76c4-4267-997f-7db4d1e13ba8",
   "metadata": {},
   "outputs": [],
   "source": [
    "# Load and split preprocessed data\n",
    "X = np.load('preprocessed_data.npy')\n",
    "Y = np.load('preprocessed_labels.npy')\n",
    "\n",
    "x_train, x_test, y_train, y_test = train_test_split(X, Y, test_size=0.2, random_state=10)"
   ]
  },
  {
   "cell_type": "code",
   "execution_count": 4,
   "id": "ee5fb407-49d8-4ae3-ade2-e870a9e32ec4",
   "metadata": {},
   "outputs": [],
   "source": [
    "# Experimenting with hyperparameters to improve the model\n",
    "\n",
    "model = Sequential([\n",
    "    #add the first convolutional layer to the model.32 filters of size 3x3, \n",
    "    Conv2D(32, (3, 3), activation='relu', input_shape=(250, 250, 1)),\n",
    "    #add a max-pooling layer with a pool size of 2x2. to reduce spatial dimensions of output from previous layer\n",
    "    MaxPooling2D(2, 2),\n",
    "    \n",
    "    #convolutional layer with 64 filters\n",
    "    Conv2D(64, (3, 3), activation='relu'),\n",
    "    #max-pooling layer to further reduce spatial dimensions.\n",
    "    MaxPooling2D(2, 2),\n",
    "\n",
    "    #convolutional layer with 128 filters\n",
    "    Conv2D(128, (3, 3), activation='relu'),\n",
    "    #Another max-pooling layer\n",
    "    MaxPooling2D(2, 2),\n",
    "\n",
    "    #convolutional layer with 256 filters \n",
    "    Conv2D(256, (3, 3), activation='relu'),\n",
    "    #Another max-pooling layer\n",
    "    MaxPooling2D(2, 2),\n",
    "    \n",
    "#remoed 124 Conv2D layer to improve accoracy\n",
    "\n",
    "    #flattens the 2D output from the previous layer into a 1D vector.\n",
    "    Flatten(),\n",
    "    \n",
    "    #dense layer with 128 neurons\n",
    "    Dense(128, activation='relu'),\n",
    "    #dropout layer to prevent overfitting\n",
    "    Dropout(0.5),\n",
    "    # final dense layer with 4 neurons(= nb of classes)\n",
    "    Dense(4, activation='softmax')\n",
    "])"
   ]
  },
  {
   "cell_type": "code",
   "execution_count": 5,
   "id": "67150486-5569-4cfb-aada-d1bb60a6fa38",
   "metadata": {},
   "outputs": [],
   "source": [
    "# Compile the model\n",
    "model.compile(optimizer='adam', loss='sparse_categorical_crossentropy', metrics=['accuracy'])"
   ]
  },
  {
   "cell_type": "code",
   "execution_count": 6,
   "id": "7284e759-34be-4f08-9cb9-de2a075c5d7f",
   "metadata": {},
   "outputs": [
    {
     "name": "stdout",
     "output_type": "stream",
     "text": [
      "Epoch 1/5\n",
      "81/81 [==============================] - 283s 3s/step - loss: 1.1335 - accuracy: 0.5087 - val_loss: 0.8640 - val_accuracy: 0.6605\n",
      "Epoch 2/5\n",
      "81/81 [==============================] - 284s 4s/step - loss: 0.7632 - accuracy: 0.6836 - val_loss: 0.6423 - val_accuracy: 0.7674\n",
      "Epoch 3/5\n",
      "81/81 [==============================] - 166s 2s/step - loss: 0.5992 - accuracy: 0.7534 - val_loss: 0.5561 - val_accuracy: 0.7845\n",
      "Epoch 4/5\n",
      "81/81 [==============================] - 156s 2s/step - loss: 0.4856 - accuracy: 0.8162 - val_loss: 0.5957 - val_accuracy: 0.7674\n",
      "Epoch 5/5\n",
      "81/81 [==============================] - 154s 2s/step - loss: 0.3932 - accuracy: 0.8496 - val_loss: 0.4219 - val_accuracy: 0.8543\n"
     ]
    },
    {
     "name": "stderr",
     "output_type": "stream",
     "text": [
      "C:\\Users\\SiCK_BoY\\AppData\\Local\\Programs\\Python\\Python311\\Lib\\site-packages\\keras\\src\\engine\\training.py:3000: UserWarning: You are saving your model as an HDF5 file via `model.save()`. This file format is considered legacy. We recommend using instead the native Keras format, e.g. `model.save('my_model.keras')`.\n",
      "  saving_api.save_model(\n"
     ]
    },
    {
     "name": "stdout",
     "output_type": "stream",
     "text": [
      "Improved model saved successfully.\n"
     ]
    }
   ],
   "source": [
    "# Train and save the model\n",
    "\n",
    "#if exists load improved_model.h5. else train and save \n",
    "if os.path.exists('improved_model.h5'):\n",
    "    model = tf.keras.models.load_model('improved_model.h5')\n",
    "else:\n",
    "    #training 5 epochs and save(same as complete model)\n",
    "    model.fit(x_train, y_train, epochs=5, validation_data=(x_test, y_test))\n",
    "    model.save('improved_model.h5')\n",
    "    print(\"Improved model saved successfully.\")"
   ]
  },
  {
   "cell_type": "code",
   "execution_count": 7,
   "id": "a3aa6474-a1eb-4ddb-9630-6a7a51c80cbe",
   "metadata": {},
   "outputs": [
    {
     "name": "stdout",
     "output_type": "stream",
     "text": [
      "21/21 [==============================] - 7s 326ms/step - loss: 0.4219 - accuracy: 0.8543\n",
      "Test accuracy: 0.8542635440826416\n",
      "Test loss: 0.4219289720058441\n"
     ]
    }
   ],
   "source": [
    "# Evaluate the model\n",
    "test_loss, test_accuracy = model.evaluate(x_test, y_test)\n",
    "print(\"Test accuracy:\", test_accuracy)\n",
    "print(\"Test loss:\", test_loss)"
   ]
  },
  {
   "cell_type": "code",
   "execution_count": null,
   "id": "b0dc8a42-5284-4d6d-b84e-4ce908fa5645",
   "metadata": {},
   "outputs": [],
   "source": []
  }
 ],
 "metadata": {
  "kernelspec": {
   "display_name": "Python 3 (ipykernel)",
   "language": "python",
   "name": "python3"
  },
  "language_info": {
   "codemirror_mode": {
    "name": "ipython",
    "version": 3
   },
   "file_extension": ".py",
   "mimetype": "text/x-python",
   "name": "python",
   "nbconvert_exporter": "python",
   "pygments_lexer": "ipython3",
   "version": "3.11.4"
  }
 },
 "nbformat": 4,
 "nbformat_minor": 5
}
